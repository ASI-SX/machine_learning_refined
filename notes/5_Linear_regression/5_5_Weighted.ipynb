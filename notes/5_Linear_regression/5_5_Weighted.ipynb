{
 "cells": [
  {
   "cell_type": "markdown",
   "metadata": {},
   "source": [
    "## Chapter 5: Linear regression"
   ]
  },
  {
   "cell_type": "markdown",
   "metadata": {},
   "source": [
    "# 5.5 Weighted regression"
   ]
  },
  {
   "cell_type": "markdown",
   "metadata": {},
   "source": [
    "Because regression cost functions are *summable over individual points* we can - as we will see in this Section - weight individual points in order to emphasize or de-emphasize their importance to a regression model.  This is called *weighted regression*."
   ]
  },
  {
   "cell_type": "code",
   "execution_count": 1,
   "metadata": {
    "slideshow": {
     "slide_type": "skip"
    }
   },
   "outputs": [],
   "source": [
    "## This code cell will not be shown in the HTML version of this notebook\n",
    "# imports from custom library\n",
    "import sys\n",
    "sys.path.append('../../')\n",
    "from mlrefined_libraries import superlearn_library as superlearn\n",
    "from mlrefined_libraries import math_optimization_library as optlib\n",
    "\n",
    "# demos for this notebook\n",
    "regress_plotter = superlearn.lin_regression_demos\n",
    "optimizers = optlib.optimizers\n",
    "static_plotter = optlib.static_plotter.Visualizer()\n",
    "datapath = '../../mlrefined_datasets/superlearn_datasets/'\n",
    "\n",
    "# import autograd functionality to bulid function's properly for optimizers\n",
    "import autograd.numpy as np\n",
    "\n",
    "# import timer\n",
    "from datetime import datetime \n",
    "\n",
    "# This is needed to compensate for %matplotlib notebook's tendancy to blow up images when plotted inline\n",
    "%matplotlib notebook\n",
    "from matplotlib import rcParams\n",
    "rcParams['figure.autolayout'] = True\n",
    "\n",
    "%load_ext autoreload\n",
    "%autoreload 2"
   ]
  },
  {
   "cell_type": "markdown",
   "metadata": {
    "slideshow": {
     "slide_type": "slide"
    }
   },
   "source": [
    "## 5.5.1  Dealing with duplicates"
   ]
  },
  {
   "cell_type": "markdown",
   "metadata": {
    "slideshow": {
     "slide_type": "subslide"
    }
   },
   "source": [
    "Imagine we have a linear regression dataset $\\left(x_1,y_1\\right),\\left(x_2,y_2\\right),...,\\left(x_P,y_P\\right)$ that contains multiple copies of the same point.  This can occur in a variety of contexts including\n",
    "\n",
    "    \n",
    "- experimental data (e.g., in physics, medicine, etc.,): if a repeated experiment produces  the same result\n",
    "    \n",
    "    \n",
    "- metadata-type datasets (e.g., census, customer databases): due to necessary / helpful pre-processing that quantizes (bins) input features in order to make human-in-the-loop analysis of the data / modeling easier\n",
    "    \n",
    "    \n",
    "In such instances 'duplicate' datapoints should not be thrown away, since they accurately represent the true phenomenon under study."
   ]
  },
  {
   "cell_type": "markdown",
   "metadata": {
    "slideshow": {
     "slide_type": "subslide"
    }
   },
   "source": [
    "For example, in the figure below we show a raw set of data from a modern reenactment of Galileo's famous experiment where - in order to quantify the effect of gravity - he repeatedly rolled a ball down a ramp to determine the relationship between distance and amount of time it takes an object to fall to the ground.  Below we show a plot of this dataset, which consists of multiple trials of the same experiment, where each output's numerical value has been rounded to two decimal places.  Note that this is the raw version of the data [shown in example 4 of this set of notes](https://jermwatt.github.io/mlrefined/blog_posts/12_Nonlinear_intro/12_1_Introduction_nonlinear_regression.html).  There are multiple datapoints here that are *duplicates*, which we denote visually by scaling the dot representing each point in the image - the larger the dot, the more duplicate points it represents."
   ]
  },
  {
   "cell_type": "code",
   "execution_count": 35,
   "metadata": {
    "slideshow": {
     "slide_type": "subslide"
    }
   },
   "outputs": [
    {
     "data": {
      "image/png": "[encoded data removed]",
      "text/plain": [
       "<matplotlib.figure.Figure at 0x7f318d7cec18>"
      ]
     },
     "metadata": {},
     "output_type": "display_data"
    }
   ],
   "source": [
    "## This code cell will not be shown in the HTML version of this notebook\n",
    "# show demo\n",
    "csvname = datapath + 'galileo_ramp_data.csv'\n",
    "demo1 = util.regression_library.weighted_regression_example.Visualizer()\n",
    "demo1.plot_it(csvname)"
   ]
  },
  {
   "cell_type": "markdown",
   "metadata": {
    "slideshow": {
     "slide_type": "subslide"
    }
   },
   "source": [
    "If we examine any regression cost function over such a dataset (i.e., one with repeated entries) we can see that it naturally *collapses* into a weighted version itself.  For example, let us examine the Least Squares cost and suppose that our first two datapoints  $\\left(x_1,\\,y_1\\right)$ and $\\left(x_2,\\,y_2\\right)$ are *identical*.  In this instance - using our `model` notation - the first two summands of our cost function (in the first two datapoints) can be combined since they will always take on the same value\n",
    "\n",
    "\\begin{equation}\n",
    "\\begin{array}\n",
    "\\\n",
    "\\frac{1}{P}\\sum_{p=1}^P \\left(\\text{model}\\left(x_p,\\mathbf{w}\\right) - y_p\\right)^2   \\\\\n",
    "= \\frac{1}{P}\\,2\\,\\left(\\text{model}\\left(x_1,\\mathbf{w}\\right) - y_1\\right)^2 + \\frac{1}{P}\\,0\\,\\left(\\text{model}\\left(x_2,\\mathbf{w}\\right) - y_2\\right)^2  + \\frac{1}{P}\\,\\sum_{p=3}^P \\left(\\text{model}\\left(x_p,\\mathbf{w}\\right) - y_p\\right)^2   \\\\\n",
    "= \\frac{1}{P}\\,2\\,\\left(\\text{model}\\left(x_1,\\mathbf{w}\\right) - y_1\\right)^2 + \\frac{1}{P}\\,\\sum_{p=3}^P \\left(\\text{model}\\left(x_p,\\mathbf{w}\\right) - y_p\\right)^2   \\\\\n",
    "\\end{array}\n",
    "\\end{equation}"
   ]
  },
  {
   "cell_type": "markdown",
   "metadata": {},
   "source": [
    "Here we can see that the cost function naturally collapses - in the sense that we can combine summands containing repeated points - so that a repeated point in a dataset is represented *in the cost function* by a single weighted summand.  \n",
    "\n",
    "Of course this holds more generally as well.  If we examined a regression cost function of a dataset having any number of identical points then we can collapse the summands of this cost for each set of identical points just as we have seen here."
   ]
  },
  {
   "cell_type": "markdown",
   "metadata": {},
   "source": [
    "In general this leads to the notion that each term in a regression cost can be *weighted* to reflect repeated points.  We can write such a *weighted regression* Least Squares as\n",
    "\n",
    "\\begin{equation}\n",
    "g\\left(\\mathbf{w}\\right) = \\frac{1}{P}\\sum_{p=1}^P \\beta_p \\left(\\text{model}\\left(x_p,\\mathbf{w}\\right) - y_p\\right)^2\n",
    "\\end{equation}\n",
    "\n",
    "where $\\beta_1,\\,\\beta_2,\\,...,\\,\\beta_P$ are *point-wise* weights.  That is, a unique point $\\left(x_p,\\,y_p\\right)$ in the dataset has weight $\\beta_p = 1$ whereas if this point is repeated $R$ times in the dataset then one instance of it will have weight $\\beta_p = R$ while the others have weight $\\beta_p = 0$.\n",
    "\n",
    "Since these weights are fixed (i.e., they are *not* parameters that need to be tuned, like $\\mathbf{w}$) we can minimize a weighted regression cost precisely as we would any other e.g,. via a local optimization scheme like gradient descent or Newton's method."
   ]
  },
  {
   "cell_type": "code",
   "execution_count": 4,
   "metadata": {
    "slideshow": {
     "slide_type": "subslide"
    }
   },
   "outputs": [],
   "source": [
    "## This code cell will not be shown in the HTML version of this notebook\n",
    "# a Python implementation of the weighted least squares cost function\n",
    "# setup to compute over mini-batches if desired\n",
    "def least_squares(w,x,y,beta,iter):\n",
    "    # get batch of points\n",
    "    x_p = x[:,iter]\n",
    "    y_p = y[:,iter]\n",
    "    beta_p = beta[:,iter]\n",
    "\n",
    "    # compute cost over batch\n",
    "    cost = np.sum((beta*model(x_p,w) - y_p)**2)\n",
    "    return cost/float(np.size(y_p))"
   ]
  },
  {
   "cell_type": "markdown",
   "metadata": {},
   "source": [
    "## 5.5.2  Weighting points by confidence"
   ]
  },
  {
   "cell_type": "markdown",
   "metadata": {},
   "source": [
    "Weighted regression can also be employed when - given knowledge of the process generating a dataset - we want to weight each point based on our *confidence on the trustworthiness* of each datapoint.  For example if our dataset came in two batches - one batch from a trustworthy source and another from a less trustworthy source (where some datapoints could be noisy or fallacious) - we would want to weight datapoints from the trustworthy source more in our final regression.  We can do this very easily using precisely the weighted regression paradigm introduced above, only now we *set the weights $\\beta_1,\\,\\beta_2,\\,...,\\,\\beta_P$ ourselves based on our confidence of each point*.  If we believe that a point is very trustworthy we can set its corresponding weight $\\beta_p$ closer to $1$, and the more untrustworthy we find a point the smaller we set $\\beta_p$ in the range $0 \\leq \\beta_p \\leq 1$ where $\\beta_p = 0$ implies we do not trust the point at all.  In making these weight selections we of course determine *how important each datapoint is* in the training of the model."
   ]
  },
  {
   "cell_type": "markdown",
   "metadata": {},
   "source": [
    "Below we show the result of increasing the confidence / weight $\\beta_p$ on a *single point* in a toy dataset, and how this effects a fully trained regression model on a toy linear regression dataset.  This single point is colored red and we show its diameter increasing and as we increase its corresponding weight $\\beta_p$.  With each weighting a weighted Least Squares cost is completely minimized over the entire dataset, and resulting line fit to data (and shown in black).  The higher the weighting of this single point, the more we incentivize a linear regressor to fit to it.   If we increase its weight enough the fully trained regression model naturally starts fitting to this single datapoint alone (disregarding all other points)."
   ]
  },
  {
   "cell_type": "code",
   "execution_count": null,
   "metadata": {
    "slideshow": {
     "slide_type": "subslide"
    }
   },
   "outputs": [],
   "source": [
    "## This code cell will not be shown in the HTML version of this notebook\n",
    "# show demo\n",
    "savepath = 'videos/animation_4.mp4'\n",
    "csvname = datapath + 'weighting_regression_data.csv'\n",
    "demo2 = superlearn.weighted_regression_animator.Visualizer()\n",
    "demo2.animate_weighting(savepath,csvname,num_slides = 200,special_ind=9,fps=10)"
   ]
  },
  {
   "cell_type": "code",
   "execution_count": 8,
   "metadata": {},
   "outputs": [
    {
     "data": {
      "text/html": [
       "\n",
       "<video width=\"1000\" height=\"400\" controls loop>\n",
       "  <source src=\"videos/animation_4.mp4\" type=\"video/mp4\">\n",
       "  </video>\n"
      ],
      "text/plain": [
       "<IPython.core.display.HTML object>"
      ]
     },
     "execution_count": 8,
     "metadata": {},
     "output_type": "execute_result"
    }
   ],
   "source": [
    "## This code cell will not be shown in the HTML version of this notebook\n",
    "# load video into notebook\n",
    "from IPython.display import HTML\n",
    "HTML(\"\"\"\n",
    "<video width=\"1000\" height=\"400\" controls loop>\n",
    "  <source src=\"videos/animation_4.mp4\" type=\"video/mp4\">\n",
    "  </video>\n",
    "\"\"\")"
   ]
  }
 ],
 "metadata": {
  "kernelspec": {
   "display_name": "Python 3",
   "language": "python",
   "name": "python3"
  },
  "language_info": {
   "codemirror_mode": {
    "name": "ipython",
    "version": 3
   },
   "file_extension": ".py",
   "mimetype": "text/x-python",
   "name": "python",
   "nbconvert_exporter": "python",
   "pygments_lexer": "ipython3",
   "version": "3.7.1"
  },
  "toc": {
   "colors": {
    "hover_highlight": "#DAA520",
    "navigate_num": "#000000",
    "navigate_text": "#333333",
    "running_highlight": "#FF0000",
    "selected_highlight": "#FFD700",
    "sidebar_border": "#EEEEEE",
    "wrapper_background": "#FFFFFF"
   },
   "moveMenuLeft": true,
   "nav_menu": {
    "height": "84px",
    "width": "252px"
   },
   "navigate_menu": true,
   "number_sections": true,
   "sideBar": true,
   "threshold": 4,
   "toc_cell": false,
   "toc_section_display": "block",
   "toc_window_display": false,
   "widenNotebook": false
  },
  "widgets": {
   "application/vnd.jupyter.widget-state+json": {
    "state": {},
    "version_major": 1,
    "version_minor": 0
   }
  }
 },
 "nbformat": 4,
 "nbformat_minor": 1
}
